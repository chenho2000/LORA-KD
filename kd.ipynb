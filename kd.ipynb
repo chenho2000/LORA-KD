{
 "cells": [
  {
   "metadata": {},
   "cell_type": "markdown",
   "source": "MRPC",
   "id": "c34a8f313c1fef0e"
  },
  {
   "metadata": {},
   "cell_type": "markdown",
   "source": "Base - Base",
   "id": "d0d0677415c5a4c7"
  },
  {
   "metadata": {},
   "cell_type": "code",
   "source": "!python task_distill.py --teacher_model ./Fine-Tuning/tmp/base/mrpc --student_model TinyBERT_General_4L_312D --data_dir ./glue_data/MRPC --task_name mrpc --output_dir ./KD/tmp/mrpc_bb --max_seq_length 128 --train_batch_size 32 --num_train_epochs 20 --do_lower_case  --learning_rate 5e-5",
   "id": "5ffc84a257ed4251",
   "outputs": [],
   "execution_count": null
  },
  {
   "metadata": {},
   "cell_type": "code",
   "source": "!python task_distill.py --pred_distill  --teacher_model ./Fine-Tuning/tmp/base/mrpc --student_model ./KD/tmp/mrpc_bb --data_dir ./glue_data/MRPC --task_name mrpc --output_dir ./KD/mrpc_bb --do_lower_case --learning_rate 3e-5 --num_train_epochs  3  --eval_step 100 --max_seq_length 128 --train_batch_size 32 ",
   "id": "d4574c951647fb6b",
   "outputs": [],
   "execution_count": null
  },
  {
   "metadata": {},
   "cell_type": "code",
   "source": "!python task_distill.py --do_eval --student_model ./KD/mrpc_bb --data_dir ./glue_data/MRPC --task_name mrpc  --output_dir ./KD/mrpc_bb/eval --do_lower_case --eval_batch_size 32 --max_seq_length 128            ",
   "id": "e6900143f2a66bb9",
   "outputs": [],
   "execution_count": null
  },
  {
   "metadata": {},
   "cell_type": "markdown",
   "source": "LoRA - Base",
   "id": "64871c13510e8386"
  },
  {
   "metadata": {},
   "cell_type": "code",
   "source": "!python task_distill.py --teacher_model ./Fine-Tuning/tmp/LoRA/mrpc --student_model TinyBERT_General_4L_312D --data_dir ./glue_data/MRPC --task_name mrpc --output_dir ./KD/tmp/mrpc_lb --max_seq_length 128 --train_batch_size 32 --num_train_epochs 20 --do_lower_case  --learning_rate 5e-5",
   "id": "90f91212b76ccb58",
   "outputs": [],
   "execution_count": null
  },
  {
   "metadata": {},
   "cell_type": "code",
   "source": "!python task_distill.py --pred_distill  --teacher_model ./Fine-Tuning/tmp/LoRA/mrpc --student_model ./KD/tmp/mrpc_lb --data_dir ./glue_data/MRPC --task_name mrpc --output_dir ./KD/mrpc_lb --do_lower_case --learning_rate 3e-5 --num_train_epochs  3  --eval_step 100 --max_seq_length 128 --train_batch_size 32 ",
   "id": "954c635f6c4035ab",
   "outputs": [],
   "execution_count": null
  },
  {
   "metadata": {},
   "cell_type": "code",
   "source": "!python task_distill.py --do_eval --student_model ./KD/mrpc_lb --data_dir ./glue_data/MRPC --task_name mrpc  --output_dir ./KD/mrpc_lb/eval --do_lower_case --eval_batch_size 32 --max_seq_length 128            ",
   "id": "c14de917f23aec8e",
   "outputs": [],
   "execution_count": null
  },
  {
   "metadata": {},
   "cell_type": "markdown",
   "source": "Base - LoRA",
   "id": "d5824f242e9411e6"
  },
  {
   "metadata": {},
   "cell_type": "code",
   "source": "!python task_distill_LoRA.py --teacher_model ./Fine-Tuning/tmp/base/mrpc --student_model TinyBERT_General_4L_312D --data_dir ./glue_data/MRPC --task_name mrpc --output_dir ./KD/tmp/mrpc_bl --max_seq_length 128 --train_batch_size 32 --num_train_epochs 20 --do_lower_case  --learning_rate 5e-5",
   "id": "5a1e98f9add53222",
   "outputs": [],
   "execution_count": null
  },
  {
   "metadata": {},
   "cell_type": "code",
   "source": "!python task_distill_LoRA.py --pred_distill  --teacher_model ./Fine-Tuning/tmp/base/mrpc --student_model ./KD/tmp/mrpc_bl --data_dir ./glue_data/MRPC --task_name mrpc --output_dir ./KD/mrpc_bl --do_lower_case --learning_rate 3e-5 --num_train_epochs  3  --eval_step 100 --max_seq_length 128 --train_batch_size 32 ",
   "id": "79e734cf379e0bb5",
   "outputs": [],
   "execution_count": null
  },
  {
   "metadata": {},
   "cell_type": "code",
   "source": "!python task_distill.py --do_eval --student_model ./KD/mrpc_bl --data_dir ./glue_data/MRPC --task_name mrpc  --output_dir ./KD/mrpc_bl/eval --do_lower_case --eval_batch_size 32 --max_seq_length 128            ",
   "id": "775e6069b49ca4f5",
   "outputs": [],
   "execution_count": null
  },
  {
   "metadata": {},
   "cell_type": "markdown",
   "source": "LoRA - LoRA",
   "id": "327c2da3018e3ead"
  },
  {
   "metadata": {},
   "cell_type": "code",
   "source": "!python task_distill_LoRA.py --teacher_model ./Fine-Tuning/tmp/LoRA/mrpc --student_model TinyBERT_General_4L_312D --data_dir ./glue_data/MRPC --task_name mrpc --output_dir ./KD/tmp/mrpc_ll_256512 --max_seq_length 128 --train_batch_size 32 --num_train_epochs 20 --do_lower_case  --learning_rate 5e-5",
   "id": "3998afc2cc4f4d5b",
   "outputs": [],
   "execution_count": null
  },
  {
   "metadata": {},
   "cell_type": "code",
   "source": "!python task_distill_LoRA.py --pred_distill  --teacher_model ./Fine-Tuning/tmp/LoRA/mrpc --student_model ./KD/tmp/mrpc_ll_256512 --data_dir ./glue_data/MRPC --task_name mrpc --output_dir ./KD/mrpc_ll_256512 --do_lower_case --learning_rate 3e-5 --num_train_epochs  3  --eval_step 100 --max_seq_length 128 --train_batch_size 32 ",
   "id": "4323a692a1d9ecc5",
   "outputs": [],
   "execution_count": null
  },
  {
   "metadata": {},
   "cell_type": "code",
   "source": "!python task_distill.py --do_eval --student_model ./KD/mrpc_ll_256512 --data_dir ./glue_data/MRPC --task_name mrpc  --output_dir ./KD/mrpc_ll/eval --do_lower_case --eval_batch_size 32 --max_seq_length 128            ",
   "id": "ddd64d1ee3066257",
   "outputs": [],
   "execution_count": null
  },
  {
   "metadata": {},
   "cell_type": "markdown",
   "source": "SST2",
   "id": "798d88bf25af89f2"
  },
  {
   "metadata": {},
   "cell_type": "markdown",
   "source": "Base - Base",
   "id": "de552fec8f11aeb2"
  },
  {
   "metadata": {},
   "cell_type": "code",
   "source": "!python task_distill.py --teacher_model ./Fine-Tuning/tmp/base/sst2 --student_model TinyBERT_General_4L_312D --data_dir ./glue_data/sst-2 --task_name sst-2 --output_dir ./KD/tmp/sst-2_bb --max_seq_length 64 --train_batch_size 32 --num_train_epochs 20 --do_lower_case  --learning_rate 5e-5",
   "id": "113fed21b72005fe",
   "outputs": [],
   "execution_count": null
  },
  {
   "metadata": {},
   "cell_type": "code",
   "source": "!python task_distill.py --pred_distill  --teacher_model ./Fine-Tuning/tmp/base/sst2 --student_model ./KD/tmp/sst-2_bb --data_dir ./glue_data/SST-2 --task_name sst-2 --output_dir ./KD/sst-2_bb --do_lower_case --learning_rate 3e-5 --num_train_epochs  3  --eval_step 100 --max_seq_length 64 --train_batch_size 32 ",
   "id": "9314446907fab683",
   "outputs": [],
   "execution_count": null
  },
  {
   "metadata": {},
   "cell_type": "code",
   "source": "!python task_distill.py --do_eval --student_model ./KD/sst-2_bb --data_dir ./glue_data/SST-2 --task_name sst-2  --output_dir ./KD/sst-2_bb/eval --do_lower_case --eval_batch_size 32 --max_seq_length 64            ",
   "id": "c7e7990936c40186",
   "outputs": [],
   "execution_count": null
  },
  {
   "metadata": {},
   "cell_type": "markdown",
   "source": "LoRA - Base",
   "id": "5b14babf3e854c3c"
  },
  {
   "metadata": {},
   "cell_type": "code",
   "source": "!python task_distill.py --teacher_model ./Fine-Tuning/tmp/LoRA/sst2 --student_model TinyBERT_General_4L_312D --data_dir ./glue_data/sst-2 --task_name sst-2 --output_dir ./KD/tmp/sst-2_lb --max_seq_length 64 --train_batch_size 32 --num_train_epochs 20 --do_lower_case  --learning_rate 5e-5",
   "id": "ab324f53b07b3d9c",
   "outputs": [],
   "execution_count": null
  },
  {
   "metadata": {},
   "cell_type": "code",
   "source": "!python task_distill.py --pred_distill  --teacher_model ./Fine-Tuning/tmp/LoRA/sst2 --student_model ./KD/tmp/sst-2_lb --data_dir ./glue_data/SST-2 --task_name sst-2 --output_dir ./KD/sst-2_lb --do_lower_case --learning_rate 3e-5 --num_train_epochs  3  --eval_step 100 --max_seq_length 64 --train_batch_size 32 ",
   "id": "cc6eb3b589670a53",
   "outputs": [],
   "execution_count": null
  },
  {
   "metadata": {},
   "cell_type": "code",
   "source": "!python task_distill.py --do_eval --student_model ./KD/sst-2_lb --data_dir ./glue_data/SST-2 --task_name sst-2  --output_dir ./KD/sst-2_lb/eval --do_lower_case --eval_batch_size 32 --max_seq_length 64            ",
   "id": "e7fc622d11ad2f10",
   "outputs": [],
   "execution_count": null
  },
  {
   "metadata": {},
   "cell_type": "markdown",
   "source": "Base - LoRA",
   "id": "6fbf98fe60e3f5ae"
  },
  {
   "metadata": {},
   "cell_type": "code",
   "source": "!python task_distill_LoRA.py --teacher_model ./Fine-Tuning/tmp/base/sst2 --student_model TinyBERT_General_4L_312D --data_dir ./glue_data/sst-2 --task_name sst-2 --output_dir ./KD/tmp/sst-2_bl --max_seq_length 64 --train_batch_size 32 --num_train_epochs 20 --do_lower_case  --learning_rate 5e-5",
   "id": "5de94444e70cba31",
   "outputs": [],
   "execution_count": null
  },
  {
   "metadata": {},
   "cell_type": "code",
   "source": "!python task_distill_LoRA.py --pred_distill  --teacher_model ./Fine-Tuning/tmp/base/sst2 --student_model ./KD/tmp/sst-2_bl --data_dir ./glue_data/SST-2 --task_name sst-2 --output_dir ./KD/sst-2_bl --do_lower_case --learning_rate 3e-5 --num_train_epochs  3  --eval_step 100 --max_seq_length 64 --train_batch_size 32",
   "id": "c2f6b474a1cf0920",
   "outputs": [],
   "execution_count": null
  },
  {
   "metadata": {},
   "cell_type": "code",
   "source": "!python task_distill.py --do_eval --student_model ./KD/sst-2_bl --data_dir ./glue_data/SST-2 --task_name sst-2  --output_dir ./KD/sst-2_bl/eval --do_lower_case --eval_batch_size 32 --max_seq_length 64",
   "id": "66b8d6c485ef8e12",
   "outputs": [],
   "execution_count": null
  },
  {
   "metadata": {},
   "cell_type": "markdown",
   "source": "LoRA - LoRA",
   "id": "5d93f2e589e5f58"
  },
  {
   "metadata": {},
   "cell_type": "code",
   "source": "!python task_distill_LoRA.py --teacher_model ./Fine-Tuning/tmp/LoRA/sst2 --student_model TinyBERT_General_4L_312D --data_dir ./glue_data/sst-2 --task_name sst-2 --output_dir ./KD/tmp/sst-2_ll --max_seq_length 64 --train_batch_size 32 --num_train_epochs 20 --do_lower_case  --learning_rate 5e-5",
   "id": "b95a529e2b7b8f6d",
   "outputs": [],
   "execution_count": null
  },
  {
   "metadata": {},
   "cell_type": "code",
   "source": "!python task_distill_LoRA.py --pred_distill  --teacher_model ./Fine-Tuning/tmp/LoRA/sst2 --student_model ./KD/tmp/sst-2_ll --data_dir ./glue_data/SST-2 --task_name sst-2 --output_dir ./KD/sst-2_ll --do_lower_case --learning_rate 3e-5 --num_train_epochs  3  --eval_step 100 --max_seq_length 64 --train_batch_size 32",
   "id": "b0fe15f389cd0fd4",
   "outputs": [],
   "execution_count": null
  },
  {
   "metadata": {},
   "cell_type": "code",
   "source": "!python task_distill.py --do_eval --student_model ./KD/sst-2_ll --data_dir ./glue_data/SST-2 --task_name sst-2  --output_dir ./KD/sst-2_ll/eval --do_lower_case --eval_batch_size 32 --max_seq_length 64",
   "id": "8b502621012d4bb1",
   "outputs": [],
   "execution_count": null
  },
  {
   "metadata": {},
   "cell_type": "markdown",
   "source": "COLA",
   "id": "94fbab3ba75752fd"
  },
  {
   "metadata": {},
   "cell_type": "markdown",
   "source": "Base - Base",
   "id": "95ef08a08e7d7f51"
  },
  {
   "metadata": {},
   "cell_type": "code",
   "source": "!python task_distill.py --teacher_model ./Fine-Tuning/tmp/base/cola --student_model TinyBERT_General_4L_312D --data_dir ./glue_data/CoLA --task_name cola --output_dir ./KD/tmp/cola_bb --max_seq_length 64 --train_batch_size 32 --num_train_epochs 50 --do_lower_case  --learning_rate 5e-5",
   "id": "660ffefa6476dff1",
   "outputs": [],
   "execution_count": null
  },
  {
   "metadata": {},
   "cell_type": "code",
   "source": "!python task_distill.py --pred_distill  --teacher_model ./Fine-Tuning/tmp/base/cola --student_model ./KD/tmp/cola_bb --data_dir ./glue_data/CoLA --task_name cola --output_dir ./KD/cola_bb --do_lower_case --learning_rate 3e-5 --num_train_epochs  3  --eval_step 100 --max_seq_length 64 --train_batch_size 32",
   "id": "da03b5b52530d2de",
   "outputs": [],
   "execution_count": null
  },
  {
   "metadata": {},
   "cell_type": "code",
   "source": "!python task_distill.py --do_eval --student_model ./KD/cola_bb --data_dir ./glue_data/CoLA --task_name cola  --output_dir ./KD/cola_bb/eval --do_lower_case --eval_batch_size 32 --max_seq_length 64",
   "id": "f6da92c7029a6e11",
   "outputs": [],
   "execution_count": null
  },
  {
   "metadata": {},
   "cell_type": "markdown",
   "source": "LoRA - Base",
   "id": "25433321e1000730"
  },
  {
   "metadata": {},
   "cell_type": "code",
   "source": "!python task_distill.py --teacher_model ./Fine-Tuning/tmp/LoRA/cola --student_model TinyBERT_General_4L_312D --data_dir ./glue_data/CoLA --task_name cola --output_dir ./KD/tmp/cola_lb --max_seq_length 64 --train_batch_size 32 --num_train_epochs 50 --do_lower_case  --learning_rate 5e-5",
   "id": "7f099030f4995ab9",
   "outputs": [],
   "execution_count": null
  },
  {
   "metadata": {},
   "cell_type": "code",
   "source": "!python task_distill.py --pred_distill  --teacher_model ./Fine-Tuning/tmp/LoRA/cola --student_model ./KD/tmp/cola_lb --data_dir ./glue_data/CoLA --task_name cola --output_dir ./KD/cola_lb --do_lower_case --learning_rate 3e-5 --num_train_epochs  3  --eval_step 100 --max_seq_length 128 --train_batch_size 64",
   "id": "d60c4e70342d932e",
   "outputs": [],
   "execution_count": null
  },
  {
   "metadata": {},
   "cell_type": "code",
   "source": "!python task_distill.py --do_eval --student_model ./KD/cola_lb --data_dir ./glue_data/CoLA --task_name cola  --output_dir ./KD/cola_lb/eval --do_lower_case --eval_batch_size 32 --max_seq_length 64",
   "id": "31145a32ceb44b87",
   "outputs": [],
   "execution_count": null
  },
  {
   "metadata": {},
   "cell_type": "markdown",
   "source": "Base - LoRA",
   "id": "d27d635ed65d1b29"
  },
  {
   "metadata": {},
   "cell_type": "code",
   "source": "!python task_distill_LoRA.py --teacher_model ./Fine-Tuning/tmp/base/cola --student_model TinyBERT_General_4L_312D --data_dir ./glue_data/CoLA --task_name cola --output_dir ./KD/tmp/cola_bl --max_seq_length 64 --train_batch_size 32 --num_train_epochs 50 --do_lower_case  --learning_rate 5e-5",
   "id": "6e0c273d998b8d58",
   "outputs": [],
   "execution_count": null
  },
  {
   "metadata": {},
   "cell_type": "code",
   "source": "!python task_distill_LoRA.py --pred_distill  --teacher_model ./Fine-Tuning/tmp/base/cola --student_model ./KD/tmp/cola_bl --data_dir ./glue_data/CoLA --task_name cola --output_dir ./KD/cola_bl --do_lower_case --learning_rate 3e-5 --num_train_epochs  3  --eval_step 100 --max_seq_length 64 --train_batch_size 32",
   "id": "23a5093bb0d9c098",
   "outputs": [],
   "execution_count": null
  },
  {
   "metadata": {},
   "cell_type": "code",
   "source": "!python task_distill.py --do_eval --student_model ./KD/cola_bl --data_dir ./glue_data/CoLA --task_name cola  --output_dir ./KD/cola_bl/eval --do_lower_case --eval_batch_size 32 --max_seq_length 64",
   "id": "447221e816655be0",
   "outputs": [],
   "execution_count": null
  },
  {
   "metadata": {},
   "cell_type": "markdown",
   "source": "LoRA - LoRA",
   "id": "de02e9d6689579e4"
  },
  {
   "metadata": {},
   "cell_type": "code",
   "source": "!python task_distill_LoRA.py --teacher_model ./Fine-Tuning/tmp/LoRA/cola --student_model TinyBERT_General_4L_312D --data_dir ./glue_data/CoLA --task_name cola --output_dir ./KD/tmp/cola_ll --max_seq_length 64 --train_batch_size 32 --num_train_epochs 50 --do_lower_case  --learning_rate 5e-5",
   "id": "ebde79b56beafaff",
   "outputs": [],
   "execution_count": null
  },
  {
   "metadata": {},
   "cell_type": "code",
   "source": "!python task_distill_LoRA.py --pred_distill  --teacher_model ./Fine-Tuning/tmp/LoRA/cola --student_model ./KD/tmp/cola_ll --data_dir ./glue_data/CoLA --task_name cola --output_dir ./KD/cola_ll --do_lower_case --learning_rate 3e-5 --num_train_epochs  3  --eval_step 100 --max_seq_length 64 --train_batch_size 32",
   "id": "d40a12d702aa3054",
   "outputs": [],
   "execution_count": null
  },
  {
   "metadata": {},
   "cell_type": "code",
   "source": "!python task_distill.py --do_eval --student_model ./KD/cola_ll --data_dir ./glue_data/CoLA --task_name cola  --output_dir ./KD/cola_ll/eval --do_lower_case --eval_batch_size 32 --max_seq_length 64",
   "id": "3f0b818494888567",
   "outputs": [],
   "execution_count": null
  },
  {
   "metadata": {},
   "cell_type": "code",
   "source": "",
   "id": "745ae1d93cc676b7",
   "outputs": [],
   "execution_count": null
  }
 ],
 "metadata": {
  "kernelspec": {
   "display_name": "Python 3",
   "language": "python",
   "name": "python3"
  },
  "language_info": {
   "codemirror_mode": {
    "name": "ipython",
    "version": 2
   },
   "file_extension": ".py",
   "mimetype": "text/x-python",
   "name": "python",
   "nbconvert_exporter": "python",
   "pygments_lexer": "ipython2",
   "version": "2.7.6"
  }
 },
 "nbformat": 4,
 "nbformat_minor": 5
}
