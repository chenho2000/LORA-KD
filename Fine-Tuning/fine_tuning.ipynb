{
 "cells": [
  {
   "metadata": {},
   "cell_type": "code",
   "source": [
    "from transformers import BertModel, BertTokenizer\n",
    "\n",
    "# Load a pre-trained BERT model and tokenizer\n",
    "model = BertModel.from_pretrained('bert-base-uncased')\n",
    "tokenizer = BertTokenizer.from_pretrained('bert-base-uncased')\n",
    "\n",
    "directory = './bert-base-uncased'\n",
    "\n",
    "# Save the model and configuration\n",
    "model.save_pretrained(directory)\n",
    "\n",
    "# Save the tokenizer\n",
    "tokenizer.save_pretrained(directory)\n"
   ],
   "id": "ba029c9eded990",
   "outputs": [],
   "execution_count": null
  },
  {
   "metadata": {},
   "cell_type": "code",
   "source": "!python run_glue.py --model_name_or_path ./bert-base-uncased --task_name mrpc --do_train --do_eval --max_seq_length 128 --per_device_train_batch_size 32 --learning_rate 2e-5 --num_train_epochs 5 --output_dir ./tmp/base/mrpc/ ",
   "id": "e802b28e16f9669a",
   "outputs": [],
   "execution_count": null
  },
  {
   "metadata": {},
   "cell_type": "code",
   "outputs": [],
   "execution_count": null,
   "source": "!python run_glue.py --model_name_or_path ./bert-base-uncased --task_name sst2 --do_train --do_eval --max_seq_length 128 --per_device_train_batch_size 32 --learning_rate 2e-5 --num_train_epochs 3 --output_dir ./tmp/base/sst2/ ",
   "id": "34c3b64cd9fa712e"
  },
  {
   "metadata": {},
   "cell_type": "code",
   "outputs": [],
   "execution_count": null,
   "source": "!python run_glue.py --model_name_or_path ./bert-base-uncased --task_name cola --do_train --do_eval --max_seq_length 128 --per_device_train_batch_size 32 --learning_rate 2e-5 --num_train_epochs 5 --output_dir ./tmp/base/cola/ ",
   "id": "52c6230131555663"
  },
  {
   "metadata": {},
   "cell_type": "code",
   "outputs": [],
   "execution_count": null,
   "source": "!python run_glue_LoRA.py --model_name_or_path ./bert-base-uncased --task_name mrpc --do_train --do_eval --max_seq_length 128 --per_device_train_batch_size 32 --learning_rate 5e-4 --num_train_epochs 5 --output_dir ./tmp/LoRA/mrpc/ ",
   "id": "9ce5ebcf121c8d20"
  },
  {
   "metadata": {},
   "cell_type": "code",
   "outputs": [],
   "execution_count": null,
   "source": "!python run_glue_LoRA.py --model_name_or_path ./bert-base-uncased --task_name sst2 --do_train --do_eval --max_seq_length 128 --per_device_train_batch_size 32 --learning_rate 2e-5 --num_train_epochs 3 --output_dir ./tmp/LoRA/sst2/ ",
   "id": "175173945580852b"
  },
  {
   "metadata": {},
   "cell_type": "code",
   "outputs": [],
   "execution_count": null,
   "source": "!python run_glue_LoRA.py --model_name_or_path ./bert-base-uncased --task_name cola --do_train --do_eval --max_seq_length 128 --per_device_train_batch_size 64 --learning_rate 3e-4 --num_train_epochs 5 --output_dir ./tmp/LoRA/cola/ ",
   "id": "afee5ea2-885f-4a1c-a7a6-9a0307d53b23"
  },
  {
   "metadata": {},
   "cell_type": "code",
   "source": "",
   "id": "3ccfd3b2da3e7428",
   "outputs": [],
   "execution_count": null
  }
 ],
 "metadata": {
  "kernelspec": {
   "display_name": "Python 3 (ipykernel)",
   "language": "python",
   "name": "python3"
  },
  "language_info": {
   "codemirror_mode": {
    "name": "ipython",
    "version": 3
   },
   "file_extension": ".py",
   "mimetype": "text/x-python",
   "name": "python",
   "nbconvert_exporter": "python",
   "pygments_lexer": "ipython3",
   "version": "3.11.9"
  }
 },
 "nbformat": 4,
 "nbformat_minor": 5
}
